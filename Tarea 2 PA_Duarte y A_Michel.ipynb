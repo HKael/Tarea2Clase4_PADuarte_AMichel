{
 "cells": [
  {
   "cell_type": "markdown",
   "metadata": {},
   "source": [
    "<img style=\"float: left; margin: 30px 15px 15px 15px;\" src=\"https://pngimage.net/wp-content/uploads/2018/06/logo-iteso-png-5.png\" width=\"300\" height=\"500\" /> \n",
    "    \n",
    "    \n",
    "### <font color='navy'> Simulación de procesos financieros. \n",
    "\n",
    "**Nombres:** Pablo Andrés Duarte y Alejandro Michel.\n",
    "\n",
    "**Fecha:** 7 de septiembre del 2020.\n",
    "\n",
    "**Expediente** :  y 719889.\n",
    "    \n",
    "**Profesor:** Oscar David Jaramillo Zuluaga.\n",
    "    \n",
    "**Github:** https://github.com/HKael/Tarea2Clase4_PADuarte_AMichel\n",
    "\n",
    "# Tarea 2: Clase 4"
   ]
  },
  {
   "cell_type": "markdown",
   "metadata": {},
   "source": [
    "### Tarea:\n",
    "\n",
    "1. Imagine una rutina contable utilizada en una librería. Funciona en una lista con sublistas, que se ven así:\n",
    "![Imagen](imagen.png)\n",
    "Escriba un programa en Python, que devuelve una lista con tuplas de tamaño 2. Cada tupla consiste en el número de pedido y el costo total del pedido. El producto debe aumentarse en 10€ si el valor de la orden es inferior a 100,00 €. \n",
    "Escribe un programa Python usando unicamente las funciones **lambda y map**.\n",
    "\n",
    "`orders = [ [\"34587\", \"Learning Python, Mark Lutz\", 4, 40.95], \n",
    "           [\"98762\", \"Programming Python, Mark Lutz\", 5, 56.80], \n",
    "           [\"77226\", \"Head First Python, Paul Barry\", 3,32.95],\n",
    "           [\"88112\", \"Einführung in Python3, Bernd Klein\", 3, 24.99]]`\n",
    "           \n"
   ]
  },
  {
   "cell_type": "code",
   "execution_count": 1,
   "metadata": {},
   "outputs": [
    {
     "name": "stdout",
     "output_type": "stream",
     "text": [
      "[('34587', 163.8), ('98762', 284.0), ('77226', 108.85000000000001), ('88112', 84.97)]\n"
     ]
    }
   ],
   "source": [
    "# Solución Alejandro Michel\n",
    "orders = [ [\"34587\", \"Learning Python, Mark Lutz\", 4, 40.95], \n",
    "          [\"98762\", \"Programming Python, Mark Lutz\", 5, 56.80], \n",
    "           [\"77226\", \"Head First Python, Paul Barry\", 3,32.95],\n",
    "           [\"88112\", \"Einführung in Python3, Bernd Klein\", 3, 24.99]]\n",
    "\n",
    "result = list(map(lambda x:(x[0], x[2] * x[3] if x[2] * x[3] >= 100 else x[2] * x[3] + 10), orders))\n",
    "print(result)"
   ]
  },
  {
   "cell_type": "code",
   "execution_count": null,
   "metadata": {},
   "outputs": [],
   "source": [
    "# Solución Andres Duarte"
   ]
  },
  {
   "cell_type": "markdown",
   "metadata": {},
   "source": [
    "2. La misma librería, pero esta vez trabajamos en una lista diferente. Las sublistas de nuestras listas se ven así: \n",
    "[número de orden, (número de artículo, cantidad, precio por unidad), ... (número de artículo, cantidad, precio por unidad)] \n",
    "\n",
    "`orders = [[1, (\"5464\", 4, 9.99), (\"8274\",18,12.99), (\"9744\", 9, 44.95)], \n",
    "\t       [2, (\"5464\", 9, 9.99), (\"9744\", 9, 44.95)],\n",
    "\t       [3, (\"5464\", 9, 9.99), (\"88112\", 11, 24.99)],\n",
    "           [4, (\"8732\", 7, 11.99), (\"7733\",11,18.99), (\"88112\", 5, 39.95)] ]`\n",
    "\n",
    "Escriba un programa que devuelva una lista de dos tuplas que tengan la información de (número de pedido, cantidad total de pedido). Utilice la función `Reduce`. Recuerde el precio del pedido del producto debe aumentarse en 10€ si el valor de la orden es inferior a 100,00 €.\n",
    "\n"
   ]
  },
  {
   "cell_type": "code",
   "execution_count": 2,
   "metadata": {},
   "outputs": [
    {
     "name": "stdout",
     "output_type": "stream",
     "text": [
      "[(1, 678.3299999999999), (2, 494.46000000000004), (3, 364.79999999999995), (4, 492.57)]\n"
     ]
    }
   ],
   "source": [
    "# Solución Alejandro Michel\n",
    "from functools import reduce\n",
    "\n",
    "orders = [ [1, (\"5464\", 4, 9.99), (\"8274\",18,12.99), (\"9744\", 9, 44.95)], \n",
    "             [2, (\"5464\", 9, 9.99), (\"9744\", 9, 44.95)],\n",
    "             [3, (\"5464\", 9, 9.99), (\"88112\", 11, 24.99)],\n",
    "           [4, (\"8732\", 7, 11.99), (\"7733\",11,18.99), (\"88112\", 5, 39.95)] ]\n",
    "\n",
    "result = list(map(lambda x: [x[0]] + list(map(lambda y: y[1] * y[2] , x[1:])) , orders))\n",
    "result = list(map(lambda x: (x[0], reduce(lambda y,z:y + z, x[1:])) , result))\n",
    "result = list(map(lambda x: (x[0], x[1]) if x[1] >= 100 else (x[0], x[1]), result))\n",
    "print(result)"
   ]
  },
  {
   "cell_type": "code",
   "execution_count": null,
   "metadata": {},
   "outputs": [],
   "source": [
    "# Solución Andres Duarte"
   ]
  },
  {
   "cell_type": "markdown",
   "metadata": {},
   "source": [
    "3. Resolver los anteriores ejercicios usando pandas (DataFrame)"
   ]
  },
  {
   "cell_type": "code",
   "execution_count": 3,
   "metadata": {},
   "outputs": [
    {
     "name": "stdout",
     "output_type": "stream",
     "text": [
      "  Pedido  Precio\n",
      "0  34587  163.80\n",
      "1  98762  284.00\n",
      "2  77226  108.85\n",
      "3  88112   84.97\n"
     ]
    }
   ],
   "source": [
    "# Solución Alejandro Michel\n",
    "import pandas as pd\n",
    "orders = [ [\"34587\", \"Learning Python, Mark Lutz\", 4, 40.95], \n",
    "          [\"98762\", \"Programming Python, Mark Lutz\", 5, 56.80], \n",
    "           [\"77226\", \"Head First Python, Paul Barry\", 3,32.95],\n",
    "           [\"88112\", \"Einführung in Python3, Bernd Klein\", 3, 24.99]]\n",
    "\n",
    "orders = pd.DataFrame(orders)\n",
    "orders\n",
    "\n",
    "\n",
    "orders[\"Precio\"] =  (orders.iloc[:,2] * orders.iloc[:,3]).apply(lambda x: x if x >= 100 else x +10)\n",
    "orders\n",
    "\n",
    "orders.drop([1,2,3], axis = 1, inplace = True)\n",
    "orders.columns = ['Pedido', 'Precio']\n",
    "orders.set_index('Pedido')\n",
    "\n",
    "\n",
    "print(orders)\n"
   ]
  },
  {
   "cell_type": "code",
   "execution_count": 6,
   "metadata": {},
   "outputs": [
    {
     "data": {
      "text/html": [
       "<div>\n",
       "<style scoped>\n",
       "    .dataframe tbody tr th:only-of-type {\n",
       "        vertical-align: middle;\n",
       "    }\n",
       "\n",
       "    .dataframe tbody tr th {\n",
       "        vertical-align: top;\n",
       "    }\n",
       "\n",
       "    .dataframe thead th {\n",
       "        text-align: right;\n",
       "    }\n",
       "</style>\n",
       "<table border=\"1\" class=\"dataframe\">\n",
       "  <thead>\n",
       "    <tr style=\"text-align: right;\">\n",
       "      <th></th>\n",
       "      <th>0</th>\n",
       "      <th>Orden 1</th>\n",
       "    </tr>\n",
       "  </thead>\n",
       "  <tbody>\n",
       "    <tr>\n",
       "      <th>0</th>\n",
       "      <td>1</td>\n",
       "      <td>688.33</td>\n",
       "    </tr>\n",
       "    <tr>\n",
       "      <th>1</th>\n",
       "      <td>2</td>\n",
       "      <td>504.46</td>\n",
       "    </tr>\n",
       "    <tr>\n",
       "      <th>2</th>\n",
       "      <td>3</td>\n",
       "      <td>374.80</td>\n",
       "    </tr>\n",
       "    <tr>\n",
       "      <th>3</th>\n",
       "      <td>4</td>\n",
       "      <td>502.57</td>\n",
       "    </tr>\n",
       "  </tbody>\n",
       "</table>\n",
       "</div>"
      ],
      "text/plain": [
       "   0  Orden 1\n",
       "0  1   688.33\n",
       "1  2   504.46\n",
       "2  3   374.80\n",
       "3  4   502.57"
      ]
     },
     "execution_count": 6,
     "metadata": {},
     "output_type": "execute_result"
    }
   ],
   "source": [
    "orders = [ [1, (\"5464\", 4, 9.99), (\"8274\",18,12.99), (\"9744\", 9, 44.95)], \n",
    "             [2, (\"5464\", 9, 9.99), (\"9744\", 9, 44.95)],\n",
    "             [3, (\"5464\", 9, 9.99), (\"88112\", 11, 24.99)],\n",
    "           [4, (\"8732\", 7, 11.99), (\"7733\",11,18.99), (\"88112\", 5, 39.95)] ]\n",
    "\n",
    "\n",
    "orders = pd.DataFrame(orders)\n",
    "orders\n",
    "\n",
    "orders[\"x1\"] = orders[1].str[1]\n",
    "orders[\"x2\"] = orders[1].str[2] \n",
    "orders[\"x3\"] = orders[2].str[1]\n",
    "orders[\"x4\"] = orders[2].str[2]\n",
    "orders[\"x5\"] = orders[3].str[1]\n",
    "orders[\"x6\"] = orders[3].str[2]\n",
    "orders.drop([1,2,3], axis = 1, inplace = True)\n",
    "orders\n",
    "\n",
    "orders[\"C1\"] = (orders.iloc[:,1] * orders.iloc[:,2]).apply(lambda x: x if x >= 100 else x +10)\n",
    "orders[\"C2\"] = (orders.iloc[:,3] * orders.iloc[:,4]).apply(lambda x: x if x >= 100 else x +10)\n",
    "orders[\"C3\"] = (orders.iloc[:,5] * orders.iloc[:,6]).apply(lambda x: x if x >= 100 else x +10)\n",
    "orders.drop([\"x1\",\"x2\",\"x3\",\"x4\",\"x5\",\"x6\"], axis = 1, inplace = True)\n",
    "orders\n",
    "\n",
    "orders.fillna(0, inplace = True)\n",
    "orders[\"Orden 1\"] = orders.iloc[:,1] + orders.iloc[:,2] + orders.iloc[:,3]\n",
    "orders\n",
    "\n",
    "orders.drop([\"C1\", \"C2\", \"C3\"], axis = 1, inplace = True)\n",
    "orders.set_index([0])\n",
    "orders\n",
    "\n",
    "\n"
   ]
  },
  {
   "cell_type": "code",
   "execution_count": null,
   "metadata": {},
   "outputs": [],
   "source": [
    "# Solución Andres Duarte"
   ]
  },
  {
   "cell_type": "markdown",
   "metadata": {},
   "source": [
    "4. Use filter to eliminate all words that are shorter than 4 letters from a list of words\n",
    "`list='the notion of a lambda function goes all the way back to the origin of computer science'`"
   ]
  },
  {
   "cell_type": "code",
   "execution_count": 7,
   "metadata": {},
   "outputs": [
    {
     "name": "stdout",
     "output_type": "stream",
     "text": [
      "['notion', 'lambda', 'function', 'goes', 'back', 'origin', 'computer', 'science']\n"
     ]
    }
   ],
   "source": [
    "# Solución Alejandro Michel\n",
    "lista =['The notion of a lambda function goes all the way back to the origin of computer science']\n",
    "\n",
    "def convert(lista): \n",
    "    return (lista[0].split()) \n",
    "lista = convert(lista)\n",
    "\n",
    "\n",
    "filtered_list = list(filter(lambda x: len(x) >= 4 , lista))\n",
    "print(filtered_list)\n",
    "                       "
   ]
  },
  {
   "cell_type": "code",
   "execution_count": null,
   "metadata": {},
   "outputs": [],
   "source": [
    "# Solución Andres Duarte"
   ]
  },
  {
   "cell_type": "markdown",
   "metadata": {},
   "source": [
    "5. Use filter to determine the percentage of Fahrenheit temperatures in a list are within the range 32 to 80"
   ]
  },
  {
   "cell_type": "code",
   "execution_count": 8,
   "metadata": {},
   "outputs": [
    {
     "name": "stdout",
     "output_type": "stream",
     "text": [
      "[35.97387961379455, 63.211195349983264, 73.90387696517755, 36.982512376595906, 68.75395211338406, 45.86132066984196, 36.58307493022292, 56.322083650154724, 33.9621930206693, 45.29071317816652, 74.86289938282341, 66.51091382521807, 46.831316244170544, 44.55796498523391]\n",
      "\n",
      "46.666666666666664 %\n"
     ]
    }
   ],
   "source": [
    "# Solución Alejandro Michel\n",
    "import numpy as np\n",
    "np.random.seed(55555)\n",
    "temperatures = np.random.uniform(25,110,30)\n",
    "temperatures = list(temperatures)\n",
    "\n",
    "result = list(filter(lambda x:  x >= 31 and x <= 80, temperatures))\n",
    "print(result)\n",
    "\n",
    "print(\"\")\n",
    "\n",
    "percent = len(result) / len(temperatures)\n",
    "print(percent*100 ,\"%\")\n",
    "\n"
   ]
  },
  {
   "cell_type": "code",
   "execution_count": null,
   "metadata": {},
   "outputs": [],
   "source": [
    "# Solución Andres Duarte"
   ]
  },
  {
   "cell_type": "markdown",
   "metadata": {},
   "source": [
    "6. Use reduce to find the lower left corner (minimum x and minimum y value) for a list of point locations\n",
    "> **Hint**: Explore the command `np.minimum.reduce` [link](https://docs.scipy.org/doc/numpy/reference/generated/numpy.ufunc.reduce.html)"
   ]
  },
  {
   "cell_type": "code",
   "execution_count": 9,
   "metadata": {},
   "outputs": [
    {
     "data": {
      "text/plain": [
       "array([0, 2])"
      ]
     },
     "execution_count": 9,
     "metadata": {},
     "output_type": "execute_result"
    }
   ],
   "source": [
    "# Solución Alejandro Michel\n",
    "np.random.seed(55555)\n",
    "point_xy = np.random.randint(0,100,[30,2])\n",
    "\n",
    "minimos = np.minimum.reduce(point_xy)\n",
    "minimos"
   ]
  },
  {
   "cell_type": "code",
   "execution_count": null,
   "metadata": {},
   "outputs": [],
   "source": [
    "# Solución Andres Duarte"
   ]
  }
 ],
 "metadata": {
  "kernelspec": {
   "display_name": "Python 3",
   "language": "python",
   "name": "python3"
  },
  "language_info": {
   "codemirror_mode": {
    "name": "ipython",
    "version": 3
   },
   "file_extension": ".py",
   "mimetype": "text/x-python",
   "name": "python",
   "nbconvert_exporter": "python",
   "pygments_lexer": "ipython3",
   "version": "3.7.7"
  }
 },
 "nbformat": 4,
 "nbformat_minor": 2
}
